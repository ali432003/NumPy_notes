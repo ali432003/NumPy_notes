{
 "cells": [
  {
   "cell_type": "markdown",
   "id": "2ced66e3",
   "metadata": {},
   "source": [
    "# Arthemetic Operation In Numpy"
   ]
  },
  {
   "cell_type": "markdown",
   "id": "c4992dd5",
   "metadata": {},
   "source": [
    "# Division"
   ]
  },
  {
   "cell_type": "code",
   "execution_count": 2,
   "id": "3656c9ca",
   "metadata": {},
   "outputs": [
    {
     "name": "stdout",
     "output_type": "stream",
     "text": [
      "by function: [[2.  2.  3.  4. ]\n",
      " [0.5 1.5 2.5 3.5]]\n",
      "manually:  [[2.  2.  3.  4. ]\n",
      " [0.5 1.5 2.5 3.5]]\n"
     ]
    }
   ],
   "source": [
    "import numpy as np\n",
    "a = np.array([[2,4,6,8],[1,3,5,7]])\n",
    "b = np.array([[1,2,2,2],[2,2,2,2]])\n",
    "ratio = a/b\n",
    "print(\"by function:\",np.divide(a,b))\n",
    "print('manually: ',ratio)\n"
   ]
  },
  {
   "cell_type": "markdown",
   "id": "a2a75115",
   "metadata": {},
   "source": [
    "# multiplication\n"
   ]
  },
  {
   "cell_type": "code",
   "execution_count": 10,
   "id": "f7802615",
   "metadata": {},
   "outputs": [
    {
     "name": "stdout",
     "output_type": "stream",
     "text": [
      "[[ 2  4  6  8]\n",
      " [ 2  6 10 14]]\n",
      "[[ 2  4  6  8]\n",
      " [ 2  6 10 14]]\n"
     ]
    }
   ],
   "source": [
    "import numpy as np\n",
    "# multiplication\n",
    "\n",
    "a = np.array([[2,4,6,8],[1,3,5,7]])\n",
    "b = np.array([[1,1,1,1],[2,2,2,2]])\n",
    "m = a*b\n",
    "print(m)\n",
    "print(np.multiply(a,b))"
   ]
  },
  {
   "cell_type": "markdown",
   "id": "bb55da6b",
   "metadata": {},
   "source": [
    "# ARGMAX & ARGMIN for index(max & min)"
   ]
  },
  {
   "cell_type": "code",
   "execution_count": null,
   "id": "688268c3",
   "metadata": {},
   "outputs": [],
   "source": [
    "import numpy as np\n",
    "# ARGMAX & ARGMIN for index(max & min)\n",
    "a = np.array([4,2,6,8])\n",
    "print(a)\n",
    "\n",
    "print(f\"max is {np.max(a)} and its index num is {np.argmax(a)}\")\n",
    "print(f\"min is {np.min(a)} and its index number is {np.argmin(a)}\")"
   ]
  },
  {
   "cell_type": "markdown",
   "id": "cd15a337",
   "metadata": {},
   "source": [
    "# MAX & MIN"
   ]
  },
  {
   "cell_type": "code",
   "execution_count": null,
   "id": "28f8a609",
   "metadata": {},
   "outputs": [],
   "source": [
    "import numpy as np\n",
    "\n",
    "a = np.array([2,4,6,8])\n",
    "\n",
    "print(a)\n",
    "print(\"min is: \",np.min(a))\n",
    "print(\"max is:\",np.max(a))\n"
   ]
  },
  {
   "cell_type": "markdown",
   "id": "00a74fc7",
   "metadata": {},
   "source": [
    "# power & sqrt"
   ]
  },
  {
   "cell_type": "code",
   "execution_count": 37,
   "id": "b35f675d",
   "metadata": {},
   "outputs": [
    {
     "name": "stdout",
     "output_type": "stream",
     "text": [
      "array:  [1 2 3 4 5]\n",
      "power^2:  [[ 1  4  9 16 25]]\n",
      "sqrts:  [[1. 2. 3. 4. 5.]]\n",
      "\n",
      "power^2:  [[ 1  4  9 16 25]]\n",
      "sqrts:  [[1. 2. 3. 4. 5.]]\n"
     ]
    }
   ],
   "source": [
    "import numpy as np\n",
    "\n",
    "# 1d-array\n",
    "x1d = np.array([1,2,3,4,5])\n",
    "y=np.power(x,2)\n",
    "\n",
    "print('array: ',x1d)\n",
    "print(\"power^2: \",y)\n",
    "print(\"sqrts: \",np.sqrt(y))\n",
    "print()\n",
    "#2d-array\n",
    "x2d = np.array([[1,2,3,4,5],[6,7,8,9,10]])\n",
    "y2=np.power(x,2)\n",
    "print(\"power^2: \",y2)\n",
    "print(\"sqrts: \",np.sqrt(y2))"
   ]
  },
  {
   "cell_type": "markdown",
   "id": "d96a7736",
   "metadata": {},
   "source": [
    "# 2d  max min"
   ]
  },
  {
   "cell_type": "code",
   "execution_count": 46,
   "id": "361b74cd",
   "metadata": {},
   "outputs": [
    {
     "name": "stdout",
     "output_type": "stream",
     "text": [
      "min:  [1 5]\n",
      "max:  [3 9]\n",
      "\n",
      "min:  [2 1 3]\n",
      "max:  [9 5 6]\n"
     ]
    }
   ],
   "source": [
    "import numpy as np\n",
    "\n",
    "\n",
    "x = np.array([[2,1,3],\n",
    "             [9,5,6]])     # axis = 0 represents coloumns\n",
    "                           # axis = 1 represents rows\n",
    "print('min: ',np.min(x,axis=1))\n",
    "print('max: ',np.max(x,axis=1))\n",
    "print()\n",
    "print('min: ',np.min(x,axis=0))\n",
    "print('max: ',np.max(x,axis=0))"
   ]
  },
  {
   "cell_type": "markdown",
   "id": "a02d7c3e",
   "metadata": {},
   "source": [
    "# sin cos tan"
   ]
  },
  {
   "cell_type": "code",
   "execution_count": 16,
   "id": "f11c447a",
   "metadata": {},
   "outputs": [
    {
     "name": "stdout",
     "output_type": "stream",
     "text": [
      "cos:  [[ 1.          0.15425145  0.52532199 -0.95241298 -0.44807362]]\n",
      "sin:  [[ 0.         -0.98803162  0.85090352 -0.30481062  0.89399666]]\n",
      "tan:  [[ 0.         -6.4053312   1.61977519  0.32004039 -1.99520041]]\n",
      "-1.995200412208242\n"
     ]
    }
   ],
   "source": [
    "import numpy as np\n",
    "\n",
    "x = np.array([[0,30,45,60,90]])\n",
    "c = np.cos(x)\n",
    "s = np.sin(x)\n",
    "t = np.tan(x)\n",
    "print(\"cos: \",c)\n",
    "print(\"sin: \",s)\n",
    "print(\"tan: \",t)\n",
    "\n",
    "#for pi use np.pi/2 or np.pi/4 etc "
   ]
  },
  {
   "cell_type": "markdown",
   "id": "0013b8b2",
   "metadata": {},
   "source": [
    "# subtraction "
   ]
  },
  {
   "cell_type": "code",
   "execution_count": 54,
   "id": "713455c6",
   "metadata": {},
   "outputs": [
    {
     "name": "stdout",
     "output_type": "stream",
     "text": [
      "[[ 4 -1  3 -6]]\n",
      "\n",
      "dimension:  2\n",
      "[[ 4 -1  3 -6]]\n"
     ]
    }
   ],
   "source": [
    "import numpy as np\n",
    "\n",
    "# subtraction of 2 arrays\n",
    "\n",
    "a = np.array([5,2,8,1],ndmin=2)\n",
    "b = np.array([1,3,5,7],ndmin=1)\n",
    "\n",
    "print(a-b)\n",
    "print()\n",
    "s = np.subtract(a,b)\n",
    "print('dimension: ',s.ndim)\n",
    "print(s)"
   ]
  },
  {
   "cell_type": "markdown",
   "id": "a0cfeec7",
   "metadata": {},
   "source": [
    "#  Addition"
   ]
  },
  {
   "cell_type": "code",
   "execution_count": 60,
   "id": "ab22e0d9",
   "metadata": {},
   "outputs": [
    {
     "name": "stdout",
     "output_type": "stream",
     "text": [
      "[3 4 5 6] [3 4 5 6]\n",
      "[[ 2  4  6  8 10]]\n",
      "2\n",
      "ans [[ 2  4  6  8 10]]\n",
      "total sum of a1 and a2 :  30\n",
      "total sum of a1 and a2 column wise :  [[ 2  4  6  8 10]]\n",
      "total sum of a1 and a2 rows wise :  [[1 2 3 4 5]\n",
      " [1 2 3 4 5]]\n"
     ]
    }
   ],
   "source": [
    "import numpy as np\n",
    "\n",
    "x = np.array([1,2,3,4])\n",
    "\n",
    "y = x + 2\n",
    "# or\n",
    "\n",
    "z = np.add(x,2)\n",
    "print(y,z)\n",
    "\n",
    "# addition of twoo arrays\n",
    "\n",
    "a1 = np.array([1,2,3,4,5],ndmin=2)\n",
    "a2 = np.array([1,2,3,4,5],ndmin=2)\n",
    "\n",
    "print(a1 + a2)\n",
    "ad = np.add(a1,a2)\n",
    "print(ad.ndim)\n",
    "print('ans',ad)\n",
    "\n",
    "# Total sum of array\n",
    "\n",
    "print('total sum of a1 and a2 : ',np.sum([a1,a2]))\n",
    "print('total sum of a1 and a2 column wise : ',np.sum([a1,a2],axis=0))\n",
    "print('total sum of a1 and a2 rows wise : ',np.sum([a1,a2],axis=1)) # on1y applicable on 1d array"
   ]
  },
  {
   "cell_type": "markdown",
   "id": "bc315865",
   "metadata": {},
   "source": [
    "# Mean Median Standard deviation"
   ]
  },
  {
   "cell_type": "code",
   "execution_count": 66,
   "id": "01266454",
   "metadata": {},
   "outputs": [
    {
     "name": "stdout",
     "output_type": "stream",
     "text": [
      "Mean :  35.0\n",
      "Median :  23.0\n",
      "Standard deviation :  31.532296368734617\n"
     ]
    }
   ],
   "source": [
    "# mean\n",
    "\n",
    "me1 = np.array([12,41,23,71,2,6,90])\n",
    "print('Mean : ',np.mean(me1))\n",
    "# median\n",
    "\n",
    "me2 = np.array([12,41,23,71,2,6,90])\n",
    "print('Median : ',np.median(me1))\n",
    "# standard deviation\n",
    "\n",
    "me3 = np.array([12,41,23,71,2,6,90])\n",
    "print('Standard deviation : ',np.std(me1))"
   ]
  },
  {
   "cell_type": "markdown",
   "id": "a87d508a",
   "metadata": {},
   "source": [
    "# Mod"
   ]
  },
  {
   "cell_type": "code",
   "execution_count": 24,
   "id": "1986676d",
   "metadata": {},
   "outputs": [
    {
     "name": "stdout",
     "output_type": "stream",
     "text": [
      "[2 1 0 2 1 0 2 1]\n",
      "[2 1 0 2 1 0 2 1]\n"
     ]
    }
   ],
   "source": [
    "# mtlb remainder return karega\n",
    "\n",
    "m1 = np.array([2,4,6,8,1,3,5,7])\n",
    "print(m1%3)\n",
    "print(np.mod(m1,3))\n"
   ]
  },
  {
   "cell_type": "markdown",
   "id": "fc06c159",
   "metadata": {},
   "source": [
    "# reciprocal"
   ]
  },
  {
   "cell_type": "code",
   "execution_count": 35,
   "id": "9bf82e3e",
   "metadata": {},
   "outputs": [
    {
     "name": "stdout",
     "output_type": "stream",
     "text": [
      "[3.5        0.75       0.83333333 1.375     ]\n"
     ]
    }
   ],
   "source": [
    "r1 = np.array([2/7,4/3,6/5,8/11])\n",
    "\n",
    "r = np.reciprocal(r1)\n",
    "print(r)"
   ]
  },
  {
   "cell_type": "markdown",
   "id": "8cca5008",
   "metadata": {},
   "source": [
    "# CumSum"
   ]
  },
  {
   "cell_type": "code",
   "execution_count": 47,
   "id": "ebf80cfc",
   "metadata": {},
   "outputs": [
    {
     "name": "stdout",
     "output_type": "stream",
     "text": [
      "[ 2  6 12 20]\n"
     ]
    }
   ],
   "source": [
    "cs1 = np.array([2,4,6,8])\n",
    "\n",
    "print(np.cumsum(cs1)) # it works as [2,2+4,2+4+6,2+4+6+8]"
   ]
  },
  {
   "cell_type": "markdown",
   "id": "a50a521a",
   "metadata": {},
   "source": [
    "# Martix"
   ]
  },
  {
   "cell_type": "code",
   "execution_count": 5,
   "id": "27f186b0",
   "metadata": {},
   "outputs": [
    {
     "name": "stdout",
     "output_type": "stream",
     "text": [
      "[[1 2 3 4]\n",
      " [5 6 7 8]] <class 'numpy.matrix'>\n",
      "\n",
      "[[1 2 3 4]\n",
      " [5 6 7 8]] <class 'numpy.ndarray'>\n"
     ]
    }
   ],
   "source": [
    "# Difference b/w matrix & arrays\n",
    "# it must be a 2d\n",
    "import numpy as np\n",
    "\n",
    "mat = np.matrix([[1,2,3,4],[5,6,7,8]])\n",
    "\n",
    "print(mat,type(mat))\n",
    "print()\n",
    "\n",
    "ar = np.array([[1,2,3,4],[5,6,7,8]]) # main difference is shown in *\n",
    "\n",
    "print(ar,type(ar))"
   ]
  },
  {
   "cell_type": "code",
   "execution_count": 22,
   "id": "2300946d",
   "metadata": {},
   "outputs": [
    {
     "name": "stdout",
     "output_type": "stream",
     "text": [
      "[[30]\n",
      " [70]]\n",
      "\n",
      "[[30]\n",
      " [70]]\n"
     ]
    }
   ],
   "source": [
    "#multiplication in Matrix\n",
    "\n",
    "mat = np.matrix([[1,2,3,4],[5,6,7,8]])\n",
    "mat1 = np.matrix([[1],[2],[3],[4]])\n",
    "\n",
    "print(mat*mat1)\n",
    "print()\n",
    "print(mat.dot(mat1))"
   ]
  },
  {
   "cell_type": "code",
   "execution_count": 29,
   "id": "f9196c98",
   "metadata": {},
   "outputs": [
    {
     "name": "stdout",
     "output_type": "stream",
     "text": [
      "[[ 1  4  9 16]\n",
      " [25 36 49 64]]\n"
     ]
    }
   ],
   "source": [
    "# in Array\n",
    "arr = np.array([[1,2,3,4],[5,6,7,8]])\n",
    "print(arr*arr)"
   ]
  },
  {
   "cell_type": "code",
   "execution_count": 33,
   "id": "bf39d6ff",
   "metadata": {},
   "outputs": [
    {
     "name": "stdout",
     "output_type": "stream",
     "text": [
      "[[ 8  5 10 15]\n",
      " [ 3  8 14 15]]\n",
      "\n",
      "[[-4  3  2  1]\n",
      " [-1 -2 -4 -1]]\n",
      "\n",
      "[[0.33333333 4.         1.5        1.14285714]\n",
      " [0.5        0.6        0.55555556 0.875     ]]\n"
     ]
    }
   ],
   "source": [
    "# add / sub / div\n",
    "\n",
    "x = np.matrix([[2,4,6,8],[1,3,5,7]])\n",
    "y = np.matrix([[6,1,4,7],[2,5,9,8]])\n",
    "\n",
    "print(x+y)\n",
    "print()\n",
    "print(x-y)\n",
    "print()\n",
    "print(x/y)\n",
    "\n"
   ]
  },
  {
   "cell_type": "markdown",
   "id": "db030a3b",
   "metadata": {},
   "source": [
    "# Functions Of Matrix"
   ]
  },
  {
   "cell_type": "code",
   "execution_count": 36,
   "id": "51c79a53",
   "metadata": {},
   "outputs": [
    {
     "name": "stdout",
     "output_type": "stream",
     "text": [
      "[[2 4 6 8]\n",
      " [1 3 5 7]] <class 'numpy.matrix'>\n",
      "\n",
      "[[2 1]\n",
      " [4 3]\n",
      " [6 5]\n",
      " [8 7]]\n",
      "\n",
      "[[2 1]\n",
      " [4 3]\n",
      " [6 5]\n",
      " [8 7]]\n"
     ]
    }
   ],
   "source": [
    "# Transpose\n",
    "\n",
    "w = np.matrix([[2,4,6,8],[1,3,5,7]])\n",
    "\n",
    "print(w,type(w))\n",
    "print()\n",
    "print(np.transpose(w)) # here rows will converted into coloumns and coloumns into rows\n",
    "print()\n",
    "print(w.T) # shortcut\n"
   ]
  },
  {
   "cell_type": "code",
   "execution_count": 37,
   "id": "39332d22",
   "metadata": {},
   "outputs": [
    {
     "name": "stdout",
     "output_type": "stream",
     "text": [
      "[[2 4 6 8]\n",
      " [1 3 5 7]]\n",
      "\n",
      "[[2 1]\n",
      " [4 3]\n",
      " [6 5]\n",
      " [8 7]]\n"
     ]
    }
   ],
   "source": [
    "# swapaxes\n",
    "\n",
    "v = np.matrix([[2,4,6,8],[1,3,5,7]])\n",
    "\n",
    "print(v)\n",
    "print()\n",
    "print(np.swapaxes(v,0,1)) # syntax(var, current axis, axis to convert) like it converts axis0--->axis1"
   ]
  },
  {
   "cell_type": "code",
   "execution_count": 40,
   "id": "d5652c8a",
   "metadata": {},
   "outputs": [
    {
     "name": "stdout",
     "output_type": "stream",
     "text": [
      "[[1 2]\n",
      " [3 4]]\n",
      "\n",
      "[[-2.   1. ]\n",
      " [ 1.5 -0.5]]\n"
     ]
    }
   ],
   "source": [
    "# Inverse\n",
    "# first it finds determinant d = 1/ad-bc * [a b =  1/ad-bc *   [d -b\n",
    "#                                           c d]               -c a]\n",
    "\n",
    "i = np.matrix([[1,2],[3,4]])\n",
    "\n",
    "print(i)\n",
    "print()\n",
    "print(np.linalg.inv(i))"
   ]
  },
  {
   "cell_type": "code",
   "execution_count": 41,
   "id": "733b818f",
   "metadata": {},
   "outputs": [
    {
     "name": "stdout",
     "output_type": "stream",
     "text": [
      "[[ 37  54]\n",
      " [ 81 118]]\n",
      "\n",
      "[[1 0]\n",
      " [0 1]]\n",
      "\n",
      "[[-14.75    6.75 ]\n",
      " [ 10.125  -4.625]]\n",
      "\n"
     ]
    }
   ],
   "source": [
    "# Power\n",
    "# syntax(np.linalg.matrix_power(var,n)) where n=0 , n>0 ,n<0\n",
    "# if n=0 it gives identitiy matrix I = [1 0\n",
    "#                                       0 1]\n",
    "# if n>0  gives power(multiplication)\n",
    "# if n<0 gives inverse*power\n",
    "\n",
    "p = np.matrix([[1,2],[3,4]])\n",
    "\n",
    "print(np.linalg.matrix_power(p,3))\n",
    "print()\n",
    "print(np.linalg.matrix_power(p,0))\n",
    "print()\n",
    "print(np.linalg.matrix_power(p,-3))\n",
    "print()"
   ]
  },
  {
   "cell_type": "code",
   "execution_count": 48,
   "id": "a806bb7b",
   "metadata": {},
   "outputs": [
    {
     "name": "stdout",
     "output_type": "stream",
     "text": [
      "0.0\n"
     ]
    }
   ],
   "source": [
    "# Determinant\n",
    "# if two rows and coloumns is same det = 0\n",
    "\n",
    "d = np.matrix([[2,3,4],\n",
    "                [2,3,4],\n",
    "                [1,2,3]])\n",
    "\n",
    "print(np.linalg.det(d))"
   ]
  },
  {
   "cell_type": "code",
   "execution_count": 67,
   "id": "116ffdf5",
   "metadata": {},
   "outputs": [
    {
     "data": {
      "text/plain": [
       "array([['E', 'B', '2', '2', '2', '1', '0', '0', '0', '6', '0', '6', '8']],\n",
       "      dtype='<U11')"
      ]
     },
     "execution_count": 67,
     "metadata": {},
     "output_type": "execute_result"
    }
   ],
   "source": [
    "np.save"
   ]
  },
  {
   "cell_type": "code",
   "execution_count": null,
   "id": "dfa8cd48",
   "metadata": {},
   "outputs": [],
   "source": []
  }
 ],
 "metadata": {
  "kernelspec": {
   "display_name": "Python 3 (ipykernel)",
   "language": "python",
   "name": "python3"
  },
  "language_info": {
   "codemirror_mode": {
    "name": "ipython",
    "version": 3
   },
   "file_extension": ".py",
   "mimetype": "text/x-python",
   "name": "python",
   "nbconvert_exporter": "python",
   "pygments_lexer": "ipython3",
   "version": "3.9.12"
  }
 },
 "nbformat": 4,
 "nbformat_minor": 5
}
