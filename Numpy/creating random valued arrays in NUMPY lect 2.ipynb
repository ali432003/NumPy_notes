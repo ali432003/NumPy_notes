{
 "cells": [
  {
   "cell_type": "markdown",
   "id": "f4048565",
   "metadata": {},
   "source": [
    "# RANDOM"
   ]
  },
  {
   "cell_type": "markdown",
   "id": "9623c3bd",
   "metadata": {},
   "source": [
    "# i) Rand():\n",
    "\n"
   ]
  },
  {
   "cell_type": "markdown",
   "id": "eb6e4b1c",
   "metadata": {},
   "source": [
    "#the function is used to generate random values between 0 to 1\n"
   ]
  },
  {
   "cell_type": "markdown",
   "id": "d71f584c",
   "metadata": {},
   "source": [
    "pakistani zoban mae kahin tou iss mae sirf positive numbers hongae b/w 0 to 1"
   ]
  },
  {
   "cell_type": "code",
   "execution_count": 2,
   "id": "35ea027e",
   "metadata": {},
   "outputs": [
    {
     "name": "stdout",
     "output_type": "stream",
     "text": [
      "[0.56983178 0.57364059 0.91008875 0.59839112]\n"
     ]
    }
   ],
   "source": [
    "import numpy as np\n",
    "variable1=np.random.rand(4)\n",
    "print(variable1)"
   ]
  },
  {
   "cell_type": "code",
   "execution_count": 5,
   "id": "36818204",
   "metadata": {},
   "outputs": [
    {
     "name": "stdout",
     "output_type": "stream",
     "text": [
      "[[0.46127695 0.72936093 0.85766878 0.86048368 0.13359413]\n",
      " [0.84955549 0.39334524 0.64130721 0.58546303 0.75659742]\n",
      " [0.97759467 0.55120618 0.69459932 0.6508574  0.68010564]]\n"
     ]
    }
   ],
   "source": [
    "import numpy as np\n",
    "variable1=np.random.rand((3,5))\n",
    "print(variable1)"
   ]
  },
  {
   "cell_type": "markdown",
   "id": "3e719aa9",
   "metadata": {},
   "source": [
    "# ii)Randn():"
   ]
  },
  {
   "cell_type": "markdown",
   "id": "fcde01e3",
   "metadata": {},
   "source": [
    "the function is used to generate random variable close to zero this may return negative and positive numbers as well"
   ]
  },
  {
   "cell_type": "code",
   "execution_count": 9,
   "id": "57b7bdb3",
   "metadata": {},
   "outputs": [
    {
     "name": "stdout",
     "output_type": "stream",
     "text": [
      "[-0.25831176  0.42794697 -1.29060873 -1.69190655]\n"
     ]
    }
   ],
   "source": [
    "import numpy as np\n",
    "var2=np.random.randn(4)\n",
    "print(var2)"
   ]
  },
  {
   "cell_type": "code",
   "execution_count": 10,
   "id": "ff89569e",
   "metadata": {},
   "outputs": [
    {
     "name": "stdout",
     "output_type": "stream",
     "text": [
      "[[ 0.80506535  0.9694366  -1.75487497]\n",
      " [ 0.12309799  1.97189211  0.31699355]\n",
      " [ 1.80148183  0.73860724 -1.11052581]\n",
      " [-0.71462287  1.49869643 -0.95365377]]\n"
     ]
    }
   ],
   "source": [
    "import numpy as np\n",
    "var2=np.random.randn((4,3))\n",
    "print(var2)"
   ]
  },
  {
   "cell_type": "markdown",
   "id": "4c04ccc3",
   "metadata": {},
   "source": [
    "# iii)Ranf():"
   ]
  },
  {
   "cell_type": "markdown",
   "id": "83edeeb8",
   "metadata": {},
   "source": [
    "simple words mae kahin tou yae random value return krta hae between this interval[0,1)\n",
    "jis mae 1 include nahi hota or 0 hota hae                                                                                  "
   ]
  },
  {
   "cell_type": "code",
   "execution_count": 13,
   "id": "c60fcca3",
   "metadata": {},
   "outputs": [
    {
     "name": "stdout",
     "output_type": "stream",
     "text": [
      "[0.45972704 0.99289834 0.33325492 0.50238335]\n"
     ]
    }
   ],
   "source": [
    "import numpy as np\n",
    "var3=np.random.ranf(4)#matlab we wont 4 elements\n",
    "print(var3)"
   ]
  },
  {
   "cell_type": "code",
   "execution_count": 15,
   "id": "3ff98c40",
   "metadata": {},
   "outputs": [
    {
     "name": "stdout",
     "output_type": "stream",
     "text": [
      "[[0.811548   0.25287343 0.36963875]\n",
      " [0.37706574 0.2564061  0.47157728]]\n"
     ]
    }
   ],
   "source": [
    "import numpy as np\n",
    "var3=np.random.ranf((2,3))#matlab we wont 4 elements\n",
    "print(var3)"
   ]
  },
  {
   "cell_type": "markdown",
   "id": "216d98f1",
   "metadata": {},
   "source": [
    "# iv)Randint():\n"
   ]
  },
  {
   "cell_type": "markdown",
   "id": "afb94ffa",
   "metadata": {},
   "source": [
    "this function is used to generate random number between given range"
   ]
  },
  {
   "cell_type": "code",
   "execution_count": 22,
   "id": "c6bdb3b3",
   "metadata": {},
   "outputs": [
    {
     "name": "stdout",
     "output_type": "stream",
     "text": [
      "[[13 12 15]\n",
      " [13 19 16]\n",
      " [14  7  8]]\n"
     ]
    }
   ],
   "source": [
    "import numpy as np\n",
    "var4=np.random.randint(5,20,(3,3))#min,max , no_of_elements \n",
    "print(var4)"
   ]
  },
  {
   "cell_type": "code",
   "execution_count": 31,
   "id": "7364aa51",
   "metadata": {
    "scrolled": true
   },
   "outputs": [
    {
     "name": "stdout",
     "output_type": "stream",
     "text": [
      "[3 6 7]\n"
     ]
    }
   ],
   "source": [
    "var5=np.random.randint([1, 5, 7], 10)\n",
    "print(var5)"
   ]
  },
  {
   "cell_type": "markdown",
   "id": "4f473329",
   "metadata": {},
   "source": [
    "# a)Random.random"
   ]
  },
  {
   "cell_type": "markdown",
   "id": "06fc7047",
   "metadata": {},
   "source": [
    "it return values randomly between 0 and 1 "
   ]
  },
  {
   "cell_type": "code",
   "execution_count": 33,
   "id": "5e61acaa",
   "metadata": {},
   "outputs": [
    {
     "name": "stdout",
     "output_type": "stream",
     "text": [
      "[0.50810048 0.86597883 0.23010401 0.31726096 0.4440269 ]\n"
     ]
    }
   ],
   "source": [
    "import numpy as np\n",
    "var6=np.random.random(5)\n",
    "print(var6)"
   ]
  },
  {
   "cell_type": "code",
   "execution_count": 36,
   "id": "7e3bc362",
   "metadata": {},
   "outputs": [
    {
     "name": "stdout",
     "output_type": "stream",
     "text": [
      "[[0.48341969]\n",
      " [0.52209998]\n",
      " [0.02614088]]\n"
     ]
    }
   ],
   "source": [
    "import numpy as np\n",
    "var6=np.random.random((3,1))\n",
    "print(var6)"
   ]
  },
  {
   "cell_type": "markdown",
   "id": "00dc64fc",
   "metadata": {},
   "source": [
    "# b)Random.normal"
   ]
  },
  {
   "cell_type": "code",
   "execution_count": 35,
   "id": "4a02b8eb",
   "metadata": {},
   "outputs": [
    {
     "name": "stdout",
     "output_type": "stream",
     "text": [
      "[5.16961312 5.12573286 5.35115099 5.62183045 5.06656711]\n"
     ]
    }
   ],
   "source": [
    "import numpy as np\n",
    "var6=np.random.normal(5,1,5)#mean,standard_deviation,size\n",
    "print(var6)"
   ]
  },
  {
   "cell_type": "code",
   "execution_count": 38,
   "id": "ff365013",
   "metadata": {},
   "outputs": [
    {
     "name": "stdout",
     "output_type": "stream",
     "text": [
      "[[5.8535093  5.06815415 5.47293728]\n",
      " [5.02960443 4.87092702 5.17585682]]\n"
     ]
    }
   ],
   "source": [
    "import numpy as np\n",
    "var6=np.random.normal(5,1,(2,3))#mean,standard_deviation,size\n",
    "print(var6)"
   ]
  },
  {
   "cell_type": "code",
   "execution_count": null,
   "id": "83cbdb63",
   "metadata": {},
   "outputs": [],
   "source": []
  }
 ],
 "metadata": {
  "kernelspec": {
   "display_name": "Python 3 (ipykernel)",
   "language": "python",
   "name": "python3"
  },
  "language_info": {
   "codemirror_mode": {
    "name": "ipython",
    "version": 3
   },
   "file_extension": ".py",
   "mimetype": "text/x-python",
   "name": "python",
   "nbconvert_exporter": "python",
   "pygments_lexer": "ipython3",
   "version": "3.9.7"
  }
 },
 "nbformat": 4,
 "nbformat_minor": 5
}
