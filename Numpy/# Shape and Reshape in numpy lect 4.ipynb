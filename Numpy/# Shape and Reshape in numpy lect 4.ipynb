{
 "cells": [
  {
   "cell_type": "markdown",
   "id": "34c39877",
   "metadata": {},
   "source": [
    "# Shape and Reshape in numpy"
   ]
  },
  {
   "cell_type": "markdown",
   "id": "d30bb1cf",
   "metadata": {},
   "source": [
    "# SHAPE"
   ]
  },
  {
   "cell_type": "code",
   "execution_count": 2,
   "id": "99593388",
   "metadata": {},
   "outputs": [
    {
     "name": "stdout",
     "output_type": "stream",
     "text": [
      "[[1 2]\n",
      " [2 3]]\n",
      "\n",
      "(2, 2)\n"
     ]
    }
   ],
   "source": [
    "import numpy as np\n",
    "\n",
    "var1=np.array([[1,2],[2,3]])\n",
    "\n",
    "print(var1)\n",
    "print()\n",
    "print(var1.shape)#it shows shape of array [2,2]rows,column"
   ]
  },
  {
   "cell_type": "code",
   "execution_count": 1,
   "id": "01ea7e6c",
   "metadata": {},
   "outputs": [
    {
     "name": "stdout",
     "output_type": "stream",
     "text": [
      "[[[[1 2 3 4]]]]\n",
      "4\n",
      "(1, 1, 1, 4)\n"
     ]
    }
   ],
   "source": [
    "import numpy as np\n",
    "\n",
    "var2=np.array([1,2,3,4],ndmin=4)\n",
    "\n",
    "print(var2)\n",
    "print(var2.ndim)\n",
    "print(var2.shape)#it gives output like[1,1,1,4] it means that first dimen has row 1 second has 1 row and 3rd has 1 row \n",
    "#and all have 4 columns"
   ]
  },
  {
   "cell_type": "markdown",
   "id": "a3f9038d",
   "metadata": {},
   "source": [
    "# RESHAPE"
   ]
  },
  {
   "cell_type": "code",
   "execution_count": 3,
   "id": "e84920a0",
   "metadata": {},
   "outputs": [
    {
     "name": "stdout",
     "output_type": "stream",
     "text": [
      "[[1 2]\n",
      " [3 4]\n",
      " [5 6]]\n",
      "x dimension is 2\n",
      "\n",
      "[1 2 3 4 5 6]\n",
      "var2 dimension is 1\n"
     ]
    }
   ],
   "source": [
    "import numpy as np\n",
    "\n",
    "var2=np.array([1,2,3,4,5,6])\n",
    "\n",
    "x=var2.reshape(3,2)\n",
    "\n",
    "print(x)\n",
    "print(\"x dimension is\",x.ndim)\n",
    "\n",
    "print()\n",
    "print(var2)\n",
    "print(\"var2 dimension is\",var2.ndim)\n"
   ]
  },
  {
   "cell_type": "code",
   "execution_count": null,
   "id": "b6ad3984",
   "metadata": {},
   "outputs": [],
   "source": [
    "import numpy as np\n",
    "\n",
    "var2=np.array([1,2,3,4,5,6])\n",
    "var2.shape=(2,3)\n",
    "print(var2)\n",
    "x=var2.reshape(3,2)\n",
    "\n",
    "print(x)\n",
    "print(\"x dimension is\",x.ndim)\n",
    "\n",
    "print()\n",
    "print(var2)\n",
    "print(\"var2 dimension is\",var2.ndim)\n"
   ]
  },
  {
   "cell_type": "code",
   "execution_count": 12,
   "id": "a6ba3eb5",
   "metadata": {},
   "outputs": [
    {
     "name": "stdout",
     "output_type": "stream",
     "text": [
      "[[[ 1  2]\n",
      "  [ 3  4]\n",
      "  [ 5  6]]\n",
      "\n",
      " [[ 7  8]\n",
      "  [ 9 10]\n",
      "  [11 12]]]\n",
      "3\n"
     ]
    }
   ],
   "source": [
    "import numpy as np\n",
    "\n",
    "var2=np.array([1,2,3,4,5,6,7,8,9,10,11,12])\n",
    "\n",
    "x=var2.reshape(2,3,2)\n",
    "print(x)\n",
    "print(x.ndim)\n",
    "\n"
   ]
  },
  {
   "cell_type": "code",
   "execution_count": 19,
   "id": "64b10983",
   "metadata": {},
   "outputs": [
    {
     "name": "stdout",
     "output_type": "stream",
     "text": [
      "[[[ 1  2]\n",
      "  [ 3  4]\n",
      "  [ 5  6]]\n",
      "\n",
      " [[ 7  8]\n",
      "  [ 9 10]\n",
      "  [11 12]]]\n",
      "3\n",
      "conversion from 3d to 1 d\n",
      "[ 1  2  3  4  5  6  7  8  9 10 11 12]\n",
      "1\n"
     ]
    }
   ],
   "source": [
    "#if i want to reshape 3d to 1d\n",
    "import numpy as np\n",
    "\n",
    "var2=np.array([1,2,3,4,5,6,7,8,9,10,11,12])\n",
    "\n",
    "x=var2.reshape(2,3,2)\n",
    "print(x)\n",
    "print(x.ndim)\n",
    "print(\"conversion from 3d to 1 d\")\n",
    "oned=x.reshape(-1)\n",
    "print(oned)\n",
    "print(oned.ndim)"
   ]
  },
  {
   "cell_type": "markdown",
   "id": "ae29aece",
   "metadata": {},
   "source": [
    "# WHERE:"
   ]
  },
  {
   "cell_type": "code",
   "execution_count": 2,
   "id": "ca5641dd",
   "metadata": {},
   "outputs": [
    {
     "name": "stdout",
     "output_type": "stream",
     "text": [
      "(array([0, 0, 0], dtype=int64), array([0, 1, 2], dtype=int64))\n"
     ]
    }
   ],
   "source": [
    "#it returns index numbers of given condition\n",
    "import numpy as np \n",
    "b=np.array([[1,2,3,4],\n",
    "            [5,6,7,8],\n",
    "            [9,10,11,12]])\n",
    "c=np.where(b<4)\n",
    "print(c)"
   ]
  },
  {
   "cell_type": "code",
   "execution_count": null,
   "id": "f01795c4",
   "metadata": {},
   "outputs": [],
   "source": []
  }
 ],
 "metadata": {
  "kernelspec": {
   "display_name": "Python 3 (ipykernel)",
   "language": "python",
   "name": "python3"
  },
  "language_info": {
   "codemirror_mode": {
    "name": "ipython",
    "version": 3
   },
   "file_extension": ".py",
   "mimetype": "text/x-python",
   "name": "python",
   "nbconvert_exporter": "python",
   "pygments_lexer": "ipython3",
   "version": "3.9.12"
  }
 },
 "nbformat": 4,
 "nbformat_minor": 5
}
