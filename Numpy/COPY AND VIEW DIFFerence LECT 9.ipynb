{
 "cells": [
  {
   "cell_type": "code",
   "execution_count": 2,
   "id": "d380a17a",
   "metadata": {},
   "outputs": [],
   "source": [
    "#copy use krnae sae original array ki copy save hojate hae given variable mae or oss variable mae agr changes karain\n",
    "#tou oss sae original array pr fark nahi pare ga\n",
    "\n",
    "#view koi data save nahi krta jis ki waja sae agr app koi changes krtae hain tou wo original array mae tou view wale beh change hoge"
   ]
  },
  {
   "cell_type": "code",
   "execution_count": 5,
   "id": "c2e91768",
   "metadata": {},
   "outputs": [
    {
     "name": "stdout",
     "output_type": "stream",
     "text": [
      "[ 1 90  3  4]\n",
      "[ 1  2  3 99]\n"
     ]
    }
   ],
   "source": [
    "import numpy as np\n",
    "\n",
    "x=np.array([1,2,3,4])\n",
    "copy_of_x = x.copy()\n",
    "\n",
    "x[1]=90\n",
    "copy_of_x[3]=99\n",
    "\n",
    "print(x)\n",
    "print(copy_of_x)"
   ]
  },
  {
   "cell_type": "code",
   "execution_count": 6,
   "id": "e76488e1",
   "metadata": {},
   "outputs": [
    {
     "name": "stdout",
     "output_type": "stream",
     "text": [
      "[ 1 90  3 99]\n",
      "[ 1 90  3 99]\n"
     ]
    }
   ],
   "source": [
    "import numpy as np\n",
    "\n",
    "x=np.array([1,2,3,4])\n",
    "view_of_x = x.view()\n",
    "\n",
    "x[1]=90\n",
    "view_of_x[3]=99\n",
    "\n",
    "print(x)\n",
    "print(view_of_x)#dono mae changes horahe hain"
   ]
  },
  {
   "cell_type": "code",
   "execution_count": null,
   "id": "0c776638",
   "metadata": {},
   "outputs": [],
   "source": []
  }
 ],
 "metadata": {
  "kernelspec": {
   "display_name": "Python 3 (ipykernel)",
   "language": "python",
   "name": "python3"
  },
  "language_info": {
   "codemirror_mode": {
    "name": "ipython",
    "version": 3
   },
   "file_extension": ".py",
   "mimetype": "text/x-python",
   "name": "python",
   "nbconvert_exporter": "python",
   "pygments_lexer": "ipython3",
   "version": "3.9.7"
  }
 },
 "nbformat": 4,
 "nbformat_minor": 5
}
