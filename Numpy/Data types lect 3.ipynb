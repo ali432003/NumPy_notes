{
 "cells": [
  {
   "cell_type": "markdown",
   "id": "5a7a9f1d",
   "metadata": {},
   "source": [
    "# Data types"
   ]
  },
  {
   "cell_type": "markdown",
   "id": "f852ea27",
   "metadata": {},
   "source": [
    "we use \"dtype\" to find data type of array in numpy"
   ]
  },
  {
   "cell_type": "code",
   "execution_count": 3,
   "id": "d481c8ad",
   "metadata": {},
   "outputs": [
    {
     "name": "stdout",
     "output_type": "stream",
     "text": [
      "data type:  int32\n"
     ]
    }
   ],
   "source": [
    "import numpy as np\n",
    "var1=np.array([1,2,3,4])\n",
    "print(\"data type: \",var1.dtype)"
   ]
  },
  {
   "cell_type": "code",
   "execution_count": 4,
   "id": "02c1c362",
   "metadata": {},
   "outputs": [
    {
     "name": "stdout",
     "output_type": "stream",
     "text": [
      "data type:  float64\n"
     ]
    }
   ],
   "source": [
    "import numpy as np\n",
    "var1=np.array([1.0,2.3,3.5,4.5])\n",
    "print(\"data type: \",var1.dtype)"
   ]
  },
  {
   "cell_type": "code",
   "execution_count": 5,
   "id": "603f66ad",
   "metadata": {},
   "outputs": [
    {
     "name": "stdout",
     "output_type": "stream",
     "text": [
      "data type:  <U1\n"
     ]
    }
   ],
   "source": [
    "import numpy as np\n",
    "var1=np.array([\"a\",\"b\",\"c\",\"d\"])\n",
    "print(\"data type: \",var1.dtype)"
   ]
  },
  {
   "cell_type": "code",
   "execution_count": 1,
   "id": "db9bf582",
   "metadata": {},
   "outputs": [
    {
     "name": "stdout",
     "output_type": "stream",
     "text": [
      "['1' '2.3' '3.5' '4.5' 'a' 'b' 'c' 'd']\n",
      "data type:  <U32\n"
     ]
    }
   ],
   "source": [
    "import numpy as np\n",
    "var1=np.array([1,2.3,3.5,4.5,\"a\",\"b\",\"c\",\"d\"])\n",
    "print(var1)\n",
    "print(\"data type: \",var1.dtype)"
   ]
  },
  {
   "cell_type": "markdown",
   "id": "ecccdbfe",
   "metadata": {},
   "source": [
    "now we will see how to convert data type of array in numpy"
   ]
  },
  {
   "cell_type": "code",
   "execution_count": 9,
   "id": "eb47ac3a",
   "metadata": {},
   "outputs": [
    {
     "name": "stdout",
     "output_type": "stream",
     "text": [
      "data type: int8\n"
     ]
    }
   ],
   "source": [
    "import numpy as np\n",
    "\n",
    "x=np.array([1,2,3,4],dtype=np.int8)\n",
    "\n",
    "print(\"data type:\",x.dtype)"
   ]
  },
  {
   "cell_type": "code",
   "execution_count": 12,
   "id": "852c2dc0",
   "metadata": {},
   "outputs": [
    {
     "name": "stdout",
     "output_type": "stream",
     "text": [
      "data type: float32\n",
      "[1. 2. 3. 4.]\n"
     ]
    }
   ],
   "source": [
    "import numpy as np\n",
    "\n",
    "x1=np.array([1,2,3,4],dtype=\"f\")\n",
    "\n",
    "print(\"data type:\",x1.dtype)\n",
    "print(x1)"
   ]
  },
  {
   "cell_type": "code",
   "execution_count": null,
   "id": "b591e1d5",
   "metadata": {},
   "outputs": [],
   "source": [
    "#we can also convert by using them as function"
   ]
  },
  {
   "cell_type": "code",
   "execution_count": 15,
   "id": "260bb6e3",
   "metadata": {},
   "outputs": [
    {
     "name": "stdout",
     "output_type": "stream",
     "text": [
      "data type: int32\n",
      "data type: float32\n",
      "[1. 2. 3. 4.]\n",
      "[1 2 3 4]\n"
     ]
    }
   ],
   "source": [
    "import numpy as np\n",
    "\n",
    "x1=np.array([1,2,3,4])\n",
    "new=np.float32(x1)\n",
    "\n",
    "print(\"data type:\",x1.dtype)\n",
    "print(\"data type:\",new.dtype)\n",
    "print(new)\n",
    "print(x1)"
   ]
  },
  {
   "cell_type": "code",
   "execution_count": null,
   "id": "e40e5c3f",
   "metadata": {},
   "outputs": [],
   "source": [
    "#as well as conversion is also possible by using astype"
   ]
  },
  {
   "cell_type": "code",
   "execution_count": 21,
   "id": "c01398c5",
   "metadata": {},
   "outputs": [
    {
     "name": "stdout",
     "output_type": "stream",
     "text": [
      "data type: int32\n",
      "data type: float64\n",
      "[1. 2. 3. 4.]\n",
      "[1 2 3 4]\n"
     ]
    }
   ],
   "source": [
    "import numpy as np\n",
    "\n",
    "x1=np.array([1,2,3,4])\n",
    "new=x1.astype(float)\n",
    "\n",
    "print(\"data type:\",x1.dtype)\n",
    "print(\"data type:\",new.dtype)\n",
    "print(new)\n",
    "print(x1)"
   ]
  },
  {
   "cell_type": "code",
   "execution_count": null,
   "id": "40d91921",
   "metadata": {},
   "outputs": [],
   "source": []
  }
 ],
 "metadata": {
  "kernelspec": {
   "display_name": "Python 3 (ipykernel)",
   "language": "python",
   "name": "python3"
  },
  "language_info": {
   "codemirror_mode": {
    "name": "ipython",
    "version": 3
   },
   "file_extension": ".py",
   "mimetype": "text/x-python",
   "name": "python",
   "nbconvert_exporter": "python",
   "pygments_lexer": "ipython3",
   "version": "3.9.7"
  }
 },
 "nbformat": 4,
 "nbformat_minor": 5
}
